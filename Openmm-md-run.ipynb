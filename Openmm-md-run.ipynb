{
 "cells": [
  {
   "cell_type": "markdown",
   "id": "b1ef7808-ab50-40c6-8ceb-15c0d51eed41",
   "metadata": {},
   "source": [
    "# MD simulation of a protein-ligand system using OpenMM."
   ]
  },
  {
   "cell_type": "markdown",
   "id": "42ffc4a5-76ef-4185-99da-07ffa926a578",
   "metadata": {},
   "source": [
    "This is part 3 of a three-part tutorial on molecular dynamics simulations of biomolecular systems prepared for *CompBioAsia* 2025.\n",
    "\n",
    "Part 1 covered the process of preparing a molecular system for MD simulation.\n",
    "\n",
    "Part 2 dealt with actually running MD simulations, using the **AMBER** package.\n",
    "\n",
    "This third part looks at another MD package - **OpenMM**.\n",
    "\n",
    "## Prerequisites\n",
    "Assuming you have started this Notebook using the `run_notebook.sh` script in this folder, your Python environment should be complete.\n",
    "\n",
    "## Background\n",
    "[OpenMM](https://openmm.org/) is a powerful Python-focussed package for molecular dynamics simulations. Click on the link to learn lots about it, but for the present purposes the key learning objective is to become aware of a rather diferent approach to running MD simulations than using the more 'old-fashioned' (but still very widely used and very powerful) command-line focussed tools like **AMBER** and **GROMACS** for example.\n",
    "\n",
    "\n",
    "**Authors**:\n",
    "This tutorial is adapted from CCPBioSim's [BioSim analysis workshop](https://github.com/CCPBioSim/BioSim-analysis-workshop).\n",
    "\n",
    "*Updates*: Charlie Laughton (charles.laughton@nottingham.ac.uk)"
   ]
  },
  {
   "cell_type": "markdown",
   "id": "64803a4a-8a42-46eb-abe0-4b27c6cc50fa",
   "metadata": {},
   "source": [
    "## Part 1: Prepare your system for MD with OpenMM"
   ]
  },
  {
   "cell_type": "markdown",
   "id": "661047c6-cce2-4c06-baea-10806208b0d7",
   "metadata": {},
   "source": [
    "OpenMM has its own tools for system preparation (fixing-up starting structures, paramaterizing systems according to chosen force fields, etc.) but it can also accept systems that have been prepared by other programs such as AMBER. \n",
    "\n",
    "As that's what we did in the first of these tutorials, we will use that data. Copies of `abl_ligand.prmtop` and `abl_ligand.inpcrd` are included in this folder.\n",
    "\n",
    "### 1.1 Make an OpenMM `System`\n",
    "\n",
    "Throughout these tutorials we have used the word *system* quite frequently but quite loosely - in general it has meant \"everything that's going to be simulated\". `OpenMM` as a Python package has it's own very specific `system` object - see [here](http://docs.openmm.org/latest/api-python/generated/openmm.openmm.System.html#openmm.openmm.System) for its definition. Our first task will be to construct one of these, using the data from our AMBER-generated input files.\n",
    "\n",
    "First we load the required packages:"
   ]
  },
  {
   "cell_type": "code",
   "execution_count": null,
   "id": "cfb9f12a-6a38-42b5-aada-1a9cb67fef7b",
   "metadata": {},
   "outputs": [],
   "source": [
    "import openmm.app as app \n",
    "import openmm as omm\n",
    "import openmm.unit as unit\n",
    "import sys"
   ]
  },
  {
   "cell_type": "markdown",
   "id": "cbd7ba31-3515-41f1-b330-c7d9d6af0d07",
   "metadata": {},
   "source": [
    "Next we load our AMBER-generated data files:"
   ]
  },
  {
   "cell_type": "code",
   "execution_count": null,
   "id": "f6d4a6da-0ae9-46db-af87-91bead1a4e02",
   "metadata": {},
   "outputs": [],
   "source": [
    "prmtop = app.AmberPrmtopFile('abl_ligand.prmtop')\n",
    "inpcrd = app.AmberInpcrdFile('abl_ligand.inpcrd')"
   ]
  },
  {
   "cell_type": "markdown",
   "id": "f86b7ba2-6b0c-4300-847e-c7bd1e430b5c",
   "metadata": {},
   "source": [
    "Now we generate the `system`. If you looked at the link above, you will have seen that OpenMM `system`s contain **all** the information about the forces that will be present in any simulation that is done. So we have to define all of these, which includes some aspects that will not yet be present from the AMBER files, such as how non-bonded interactions will be handled, and how constant pressure conditions will be managed."
   ]
  },
  {
   "cell_type": "code",
   "execution_count": null,
   "id": "8b3e025a-95b6-4d90-b825-3ebd54e0f49f",
   "metadata": {},
   "outputs": [],
   "source": [
    "system = prmtop.createSystem(nonbondedMethod=app.PME, # Particle-mesh Ewald method\n",
    "                             nonbondedCutoff=1*unit.nanometer,\n",
    "                             constraints=app.HBonds) # Lengths of bonds to hydrogena atoms \n",
    "                                                     # are constrained\n",
    "\n",
    "\n",
    "barostat = omm.MonteCarloBarostat(\n",
    "        1.0 * unit.bar, # Target pressure\n",
    "        300.0 * unit.kelvin, # Target temperature\n",
    "        25) # How many time steps between pressure adjustment\n",
    "\n",
    "system.addForce(barostat) # Add the barostat to the system\n",
    "print('system object created')"
   ]
  },
  {
   "cell_type": "markdown",
   "id": "c8abea38-4345-4b42-8328-a34ee6104915",
   "metadata": {},
   "source": [
    "### 1.2 Make an OpenMM `Simulation`\n",
    "\n",
    "AN OpenMM `system` defines things that are invariant - what atoms are present and what forces will act on them. Interestingly though, a `system` does not describe the *topology* - how the atoms are connected to each other, which is another thing that in a molecular mechanics-based simulation such as this must also be invariant. \n",
    "\n",
    "OpenMM then has another object, a `simulation`, that represents a currently-running simulation of this system - see [here](http://docs.openmm.org/latest/api-python/generated/openmm.app.simulation.Simulation.html#openmm.app.simulation.Simulation) for details. That includes how it will be run (on what hardware, and using what algorithms), and everything that may change over time, such as the coordinates and velocities of the atoms."
   ]
  },
  {
   "cell_type": "code",
   "execution_count": null,
   "id": "527d7dea-6134-4cef-a5aa-066d8c43c519",
   "metadata": {},
   "outputs": [],
   "source": [
    "# Define the integrator to use:\n",
    "integrator = omm.LangevinIntegrator(\n",
    "        300*unit.kelvin,  # The temperature of the simulation\n",
    "        1/unit.picosecond, # The temperature coupling parameter\n",
    "        0.002*unit.picoseconds) # The simulation timestep\n",
    "\n",
    "# Create the simulation object:\n",
    "simulation = app.Simulation(prmtop.topology, system, integrator)\n",
    "\n",
    "# Set the initial positions of the atoms and the initial periodic box size:\n",
    "simulation.context.setPositions(inpcrd.positions)\n",
    "if inpcrd.boxVectors is not None:\n",
    "    simulation.context.setPeriodicBoxVectors(*inpcrd.boxVectors)\n",
    "print('simulation object created')"
   ]
  },
  {
   "cell_type": "markdown",
   "id": "3edce8a1-5d9b-43dc-8f9a-32b0dd65fd15",
   "metadata": {},
   "source": [
    "## Part 2: Molecular Simulation\n",
    "\n",
    "### 2.1 Energy minimisation\n",
    "\n",
    "Before running MD, it;s always advisable to make sure the initially-build system is free from serious structural defects, such as atom clashes or bad geometry, by running an energy minimisation. Using OpenMM, this is very simple:"
   ]
  },
  {
   "cell_type": "code",
   "execution_count": null,
   "id": "a5285bd0-65e5-4b95-9bb0-0c3d232e499f",
   "metadata": {},
   "outputs": [],
   "source": [
    "simulation.minimizeEnergy()\n",
    "print('energy minimization complete')"
   ]
  },
  {
   "cell_type": "markdown",
   "id": "8bb7ab19-8148-4e11-9c6f-1224e99edf21",
   "metadata": {},
   "source": [
    "### 2.2 Molecular dynamics simulation\n",
    "With the simulation now energy minimised, we can start dynamics.\n",
    "\n",
    "#### 2.2.1 Add reporters\n",
    "You will have noticed that the energy minimisation step was very \"quiet\" - you got no information about what happened. So before we run the MD simulation, we need to attach `reporters` to our `simulation`, so that data we are interested in gets captured. Here we use three reporters:\n",
    "\n",
    "1. One that writes the step number to the screen - just so we know things are progressing\n",
    "2. One that writes interesting attributes of the simulation to a log file - things like the current temperature, potential energy, etc.\n",
    "3. One that writes the current coordinates of the system to a *trajectory file*.\n",
    "\n",
    "We ask each of these reporters to provide output every 100 simulation time steps."
   ]
  },
  {
   "cell_type": "code",
   "execution_count": null,
   "id": "c70d0165-3e64-4d01-ab06-d4783e95e8de",
   "metadata": {},
   "outputs": [],
   "source": [
    "from parmed.openmm import StateDataReporter\n",
    "from mdtraj.reporters import NetCDFReporter\n",
    "\n",
    "simulation.reporters.append(\n",
    "        StateDataReporter(sys.stdout, 100, step=True, potentialEnergy=False,\n",
    "                          kineticEnergy=False, totalEnergy=False,\n",
    "                          density=False, temperature=False)\n",
    ")\n",
    "\n",
    "simulation.reporters.append(\n",
    "        StateDataReporter('abl_ligand.log', 100, density=True) # Report density as well as default\n",
    "                                                               # parameters such as temperature\n",
    ")\n",
    "\n",
    "simulation.reporters.append(\n",
    "        NetCDFReporter('abl_ligand.nc', 100)\n",
    ")\n",
    "print('reporters added')"
   ]
  },
  {
   "cell_type": "markdown",
   "id": "1d2e140c-690c-4127-9372-c61766a73d5c",
   "metadata": {},
   "source": [
    "#### 2.2.2 Run MD\n",
    "\n",
    "Now we can run some MD. We just need to decide the total number of timsteps to run. Here we use 10,000, so remembering that we set the integrator timestep to be 0.002 picoseconds, that equates to 20ps of simulation in total."
   ]
  },
  {
   "cell_type": "code",
   "execution_count": null,
   "id": "6cb9a07e-07fd-4cb3-9404-307fd9363408",
   "metadata": {},
   "outputs": [],
   "source": [
    "# Run dynamics\n",
    "print('Running dynamics')\n",
    "simulation.step(10000)\n",
    "print('simulation complete')"
   ]
  },
  {
   "cell_type": "markdown",
   "id": "7f43abaa-6fdc-4f69-a132-b433ca7e17a2",
   "metadata": {},
   "source": [
    "## 3. Analysis of the simulation data"
   ]
  },
  {
   "cell_type": "markdown",
   "id": "dfbc6034-45d3-40b2-8dab-2aaeb21eac71",
   "metadata": {},
   "source": [
    "Let's have a quick look at the data we have generated and saved to our two output files - the log file `abl_ligand.log` and the trajectory file `zabl_ligand.nc`. \n",
    "\n",
    "### 3.1 Visualization of the trajectory"
   ]
  },
  {
   "cell_type": "code",
   "execution_count": null,
   "id": "768ad0b3-488c-40ff-88d8-c3892476c11d",
   "metadata": {},
   "outputs": [],
   "source": [
    "import mdtraj as mdt\n",
    "import nglview as nv"
   ]
  },
  {
   "cell_type": "code",
   "execution_count": null,
   "id": "c1941aab-0223-473b-8211-e65d8840a0bd",
   "metadata": {},
   "outputs": [],
   "source": [
    "traj = mdt.load('abl_ligand.nc', top='abl_ligand.prmtop')\n",
    "print(traj)\n",
    "view = nv.show_mdtraj(traj)\n",
    "view"
   ]
  },
  {
   "cell_type": "markdown",
   "id": "9eb1ec6a-dc4c-45e9-be82-0f8e34cda669",
   "metadata": {},
   "source": [
    "The visualization does not show the water molecules, so the solute can be seen more clearly. If you refer back to earlier notebooks in this series, you should be able to work out how to change this behaviour if you prefer.\n",
    "\n",
    "#### 3.2 Graphical analysis of simulation parameters\n",
    "\n",
    "Though it's always nice to visualize a trajectory, normally the most valuable data from a simulation is in numerical properties such as those captured in the log file. Here we plot the potential enerhy, temperature, and density of the simulation as a function of time.\n",
    "\n",
    "We will use `pandas` and `matplotlib` for this:"
   ]
  },
  {
   "cell_type": "code",
   "execution_count": null,
   "id": "88b0723f-14f1-46d9-a9a2-b18e2620bb3f",
   "metadata": {},
   "outputs": [],
   "source": [
    "import pandas as pd\n",
    "from matplotlib import pyplot as plt\n",
    "\n",
    "reporters = pd.read_csv('abl_ligand.log')\n",
    "reporters"
   ]
  },
  {
   "cell_type": "markdown",
   "id": "58bbcd3d-0dde-4f3c-a39e-68d6cc334405",
   "metadata": {},
   "source": [
    "Defining a function makes the plotting process a bit neater:"
   ]
  },
  {
   "cell_type": "code",
   "execution_count": null,
   "id": "4ace47df-45a0-4640-a5ad-70add966dbfe",
   "metadata": {},
   "outputs": [],
   "source": [
    "def plot_reporters(reportfilename):\n",
    "\n",
    "  reporters = pd.read_csv(reportfilename)\n",
    "\n",
    "  fig, axs = plt.subplots(1, 3, figsize=(14, 3))\n",
    "  axs[0].plot(reporters['Time (ps)'], reporters['Potential Energy (kilocalorie/mole)'])\n",
    "  axs[0].set_xlabel(\"time (ps)\")\n",
    "  axs[0].set_ylabel('Potential Energy (kCal/mole)')\n",
    "\n",
    "  axs[1].plot(reporters['Time (ps)'], reporters['Temperature (K)'])\n",
    "  axs[1].set_xlabel(\"time (ps)\")\n",
    "  axs[1].set_ylabel('Temperature (K)')\n",
    "\n",
    "  axs[2].plot(reporters['Time (ps)'], reporters['Density (gram/(item*milliliter))'])\n",
    "  axs[2].set_xlabel(\"time (ps)\")\n",
    "  axs[2].set_ylabel('Density (g/mL)');"
   ]
  },
  {
   "cell_type": "markdown",
   "id": "f4082c84-d95e-4186-a77e-a095b7566414",
   "metadata": {},
   "source": [
    "Now use it:"
   ]
  },
  {
   "cell_type": "code",
   "execution_count": null,
   "id": "5b28042d-868d-4dcd-9df9-9876bbda716f",
   "metadata": {},
   "outputs": [],
   "source": [
    "plot_reporters('abl_ligand.log')"
   ]
  },
  {
   "cell_type": "markdown",
   "id": "6a0ac56d-3838-4da9-b413-3583aa369b15",
   "metadata": {},
   "source": [
    "You will see how over the MD simulation time the system warms up and also compresses towards a more realistic density of about 1 g/ml."
   ]
  },
  {
   "cell_type": "markdown",
   "id": "6f2c2ecb-98fb-44de-bb10-99350b8e10bd",
   "metadata": {},
   "source": [
    "## To recap:\n",
    "\n",
    "1. You used the AMBER-derived *.inpcrd and *.prmtop files to create an OpenMM `system`.\n",
    "2. You created an OpenMM `simulation` from this, additionally specifying things like the MD integrator to use.\n",
    "3. You ran energy minimisation on the `simulation` object, then after attaching `reporters` to it, ran a short MD simulation.\n",
    "4. You visualized the trajectory file using `mdtraj` and `nglview`, and system parameters from the log file using `pandas` and `matplotlib`."
   ]
  },
  {
   "cell_type": "code",
   "execution_count": null,
   "id": "61a434a3-f938-4a45-9273-839200535a46",
   "metadata": {},
   "outputs": [],
   "source": []
  }
 ],
 "metadata": {
  "kernelspec": {
   "display_name": "Python 3 (ipykernel)",
   "language": "python",
   "name": "python3"
  },
  "language_info": {
   "codemirror_mode": {
    "name": "ipython",
    "version": 3
   },
   "file_extension": ".py",
   "mimetype": "text/x-python",
   "name": "python",
   "nbconvert_exporter": "python",
   "pygments_lexer": "ipython3",
   "version": "3.10.18"
  }
 },
 "nbformat": 4,
 "nbformat_minor": 5
}
